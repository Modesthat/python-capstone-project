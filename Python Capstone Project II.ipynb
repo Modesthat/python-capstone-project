{
 "cells": [
  {
   "cell_type": "markdown",
   "id": "272be86c-5e8e-42cc-8a84-77ac0e5b6c15",
   "metadata": {},
   "source": [
    "As a data analyst, your task is to explore and analyze this customer dataset to uncover valuable insights for the bank's decision-making process. You will focus on understanding the demographic and financial characteristics of the bank's customers, identifying trends and patterns in customer engagement, and highlighting potential areas for business improvement (e.g., customer retention or service optimization)."
   ]
  },
  {
   "cell_type": "markdown",
   "id": "6ada69cc-d930-47f5-9bf9-76fa95a79edb",
   "metadata": {},
   "source": [
    "#### Objectives\n",
    "--Get the data for each customer and accounts\n",
    "--Examine and profile the data\n",
    "--Prepare for visualisation\n",
    "--Draw conclusion and recommendation"
   ]
  },
  {
   "cell_type": "code",
   "execution_count": 1,
   "id": "4220c796-e323-4e77-b906-2a4181f16ec2",
   "metadata": {},
   "outputs": [],
   "source": [
    "import numpy as np\n",
    "import pandas as pd\n",
    "import matplotlib.pyplot as plt\n",
    "import seaborn as sb"
   ]
  },
  {
   "cell_type": "code",
   "execution_count": 2,
   "id": "a9b17ddb-01e7-4728-87d5-149403c9e803",
   "metadata": {},
   "outputs": [],
   "source": [
    "customer_df = pd.read_csv('Bank_Churn_Messy.xlsx - Customer_Info.csv')\n",
    "accounts_df = pd.read_csv('Bank_Churn_Messy.xlsx - Account_Info.csv')"
   ]
  },
  {
   "cell_type": "code",
   "execution_count": 3,
   "id": "664f276c-be33-49fd-95a3-3330a4deb67b",
   "metadata": {},
   "outputs": [
    {
     "data": {
      "text/plain": [
       "1"
      ]
     },
     "execution_count": 3,
     "metadata": {},
     "output_type": "execute_result"
    }
   ],
   "source": [
    "#### Data Cleaning\n",
    "#### Duplicates\n",
    "customer_df.duplicated().sum()"
   ]
  },
  {
   "cell_type": "code",
   "execution_count": 4,
   "id": "024da9de-8749-4db0-8d81-02587e3c8d6b",
   "metadata": {},
   "outputs": [
    {
     "data": {
      "text/plain": [
       "2"
      ]
     },
     "execution_count": 4,
     "metadata": {},
     "output_type": "execute_result"
    }
   ],
   "source": [
    "#### Duplicates\n",
    "accounts_df.duplicated().sum()"
   ]
  },
  {
   "cell_type": "code",
   "execution_count": 5,
   "id": "6612a67f-709b-4550-becf-5c2e22ab7b53",
   "metadata": {},
   "outputs": [],
   "source": [
    "#### Drop Duplicates\n",
    "customer_df.drop_duplicates(inplace=True)\n",
    "accounts_df.drop_duplicates(inplace=True)"
   ]
  },
  {
   "cell_type": "code",
   "execution_count": 6,
   "id": "cd2d91cb-a189-42b2-9957-6531b4ec6eef",
   "metadata": {},
   "outputs": [],
   "source": [
    "#### Merging Data\n",
    "merged_df = customer_df.merge(accounts_df)"
   ]
  },
  {
   "cell_type": "code",
   "execution_count": 7,
   "id": "eb3fc883-c29b-4ddf-9532-59f452335d7d",
   "metadata": {},
   "outputs": [
    {
     "data": {
      "text/html": [
       "<div>\n",
       "<style scoped>\n",
       "    .dataframe tbody tr th:only-of-type {\n",
       "        vertical-align: middle;\n",
       "    }\n",
       "\n",
       "    .dataframe tbody tr th {\n",
       "        vertical-align: top;\n",
       "    }\n",
       "\n",
       "    .dataframe thead th {\n",
       "        text-align: right;\n",
       "    }\n",
       "</style>\n",
       "<table border=\"1\" class=\"dataframe\">\n",
       "  <thead>\n",
       "    <tr style=\"text-align: right;\">\n",
       "      <th></th>\n",
       "      <th>CustomerId</th>\n",
       "      <th>Surname</th>\n",
       "      <th>CreditScore</th>\n",
       "      <th>Geography</th>\n",
       "      <th>Gender</th>\n",
       "      <th>Age</th>\n",
       "      <th>Tenure</th>\n",
       "      <th>EstimatedSalary</th>\n",
       "      <th>Balance</th>\n",
       "      <th>NumOfProducts</th>\n",
       "      <th>HasCrCard</th>\n",
       "      <th>IsActiveMember</th>\n",
       "      <th>Exited</th>\n",
       "    </tr>\n",
       "  </thead>\n",
       "  <tbody>\n",
       "    <tr>\n",
       "      <th>0</th>\n",
       "      <td>15634602</td>\n",
       "      <td>Hargrave</td>\n",
       "      <td>619</td>\n",
       "      <td>FRA</td>\n",
       "      <td>Female</td>\n",
       "      <td>42.0</td>\n",
       "      <td>2</td>\n",
       "      <td>€101348.88</td>\n",
       "      <td>€0.0</td>\n",
       "      <td>1</td>\n",
       "      <td>Yes</td>\n",
       "      <td>Yes</td>\n",
       "      <td>1</td>\n",
       "    </tr>\n",
       "    <tr>\n",
       "      <th>1</th>\n",
       "      <td>15647311</td>\n",
       "      <td>Hill</td>\n",
       "      <td>608</td>\n",
       "      <td>Spain</td>\n",
       "      <td>Female</td>\n",
       "      <td>41.0</td>\n",
       "      <td>1</td>\n",
       "      <td>€112542.58</td>\n",
       "      <td>€83807.86</td>\n",
       "      <td>1</td>\n",
       "      <td>Yes</td>\n",
       "      <td>Yes</td>\n",
       "      <td>0</td>\n",
       "    </tr>\n",
       "    <tr>\n",
       "      <th>2</th>\n",
       "      <td>15619304</td>\n",
       "      <td>Onio</td>\n",
       "      <td>502</td>\n",
       "      <td>French</td>\n",
       "      <td>Female</td>\n",
       "      <td>42.0</td>\n",
       "      <td>8</td>\n",
       "      <td>€113931.57</td>\n",
       "      <td>€159660.8</td>\n",
       "      <td>3</td>\n",
       "      <td>No</td>\n",
       "      <td>No</td>\n",
       "      <td>1</td>\n",
       "    </tr>\n",
       "    <tr>\n",
       "      <th>3</th>\n",
       "      <td>15701354</td>\n",
       "      <td>Boni</td>\n",
       "      <td>699</td>\n",
       "      <td>FRA</td>\n",
       "      <td>Female</td>\n",
       "      <td>39.0</td>\n",
       "      <td>1</td>\n",
       "      <td>€93826.63</td>\n",
       "      <td>€0.0</td>\n",
       "      <td>2</td>\n",
       "      <td>No</td>\n",
       "      <td>No</td>\n",
       "      <td>0</td>\n",
       "    </tr>\n",
       "    <tr>\n",
       "      <th>4</th>\n",
       "      <td>15737888</td>\n",
       "      <td>Mitchell</td>\n",
       "      <td>850</td>\n",
       "      <td>Spain</td>\n",
       "      <td>Female</td>\n",
       "      <td>43.0</td>\n",
       "      <td>2</td>\n",
       "      <td>€79084.1</td>\n",
       "      <td>€125510.82</td>\n",
       "      <td>1</td>\n",
       "      <td>Yes</td>\n",
       "      <td>Yes</td>\n",
       "      <td>0</td>\n",
       "    </tr>\n",
       "  </tbody>\n",
       "</table>\n",
       "</div>"
      ],
      "text/plain": [
       "   CustomerId   Surname  CreditScore Geography  Gender   Age  Tenure  \\\n",
       "0    15634602  Hargrave          619       FRA  Female  42.0       2   \n",
       "1    15647311      Hill          608     Spain  Female  41.0       1   \n",
       "2    15619304      Onio          502    French  Female  42.0       8   \n",
       "3    15701354      Boni          699       FRA  Female  39.0       1   \n",
       "4    15737888  Mitchell          850     Spain  Female  43.0       2   \n",
       "\n",
       "  EstimatedSalary     Balance  NumOfProducts HasCrCard IsActiveMember  Exited  \n",
       "0      €101348.88        €0.0              1       Yes            Yes       1  \n",
       "1      €112542.58   €83807.86              1       Yes            Yes       0  \n",
       "2      €113931.57   €159660.8              3        No             No       1  \n",
       "3       €93826.63        €0.0              2        No             No       0  \n",
       "4        €79084.1  €125510.82              1       Yes            Yes       0  "
      ]
     },
     "execution_count": 7,
     "metadata": {},
     "output_type": "execute_result"
    }
   ],
   "source": [
    "merged_df.head()"
   ]
  },
  {
   "cell_type": "code",
   "execution_count": 8,
   "id": "918744bf-e42d-4127-8377-4c9f18eb5dc4",
   "metadata": {},
   "outputs": [
    {
     "data": {
      "text/plain": [
       "(10000, 13)"
      ]
     },
     "execution_count": 8,
     "metadata": {},
     "output_type": "execute_result"
    }
   ],
   "source": [
    "merged_df.shape"
   ]
  },
  {
   "cell_type": "code",
   "execution_count": 9,
   "id": "9dcb34b3-4ba5-4268-9444-8e3ecaaa5fdf",
   "metadata": {},
   "outputs": [
    {
     "data": {
      "text/plain": [
       "CustomerId         0\n",
       "Surname            3\n",
       "CreditScore        0\n",
       "Geography          0\n",
       "Gender             0\n",
       "Age                3\n",
       "Tenure             0\n",
       "EstimatedSalary    0\n",
       "Balance            0\n",
       "NumOfProducts      0\n",
       "HasCrCard          0\n",
       "IsActiveMember     0\n",
       "Exited             0\n",
       "dtype: int64"
      ]
     },
     "execution_count": 9,
     "metadata": {},
     "output_type": "execute_result"
    }
   ],
   "source": [
    "#### Data Cleaning Continued\n",
    "#### Null Values\n",
    "merged_df.isnull().sum()"
   ]
  },
  {
   "cell_type": "code",
   "execution_count": 10,
   "id": "7cc77fff-c578-4e94-8619-4bb1741352bb",
   "metadata": {},
   "outputs": [],
   "source": [
    "#### Fill age with mean age, ignore name\n",
    "mean_age = merged_df['Age'].mean()\n",
    "merged_df['Age'] = merged_df['Age'].fillna(mean_age)"
   ]
  },
  {
   "cell_type": "code",
   "execution_count": 11,
   "id": "74f1e363-e99b-498c-af77-8b18a1b7404f",
   "metadata": {},
   "outputs": [
    {
     "data": {
      "text/plain": [
       "CustomerId         0\n",
       "Surname            3\n",
       "CreditScore        0\n",
       "Geography          0\n",
       "Gender             0\n",
       "Age                0\n",
       "Tenure             0\n",
       "EstimatedSalary    0\n",
       "Balance            0\n",
       "NumOfProducts      0\n",
       "HasCrCard          0\n",
       "IsActiveMember     0\n",
       "Exited             0\n",
       "dtype: int64"
      ]
     },
     "execution_count": 11,
     "metadata": {},
     "output_type": "execute_result"
    }
   ],
   "source": [
    "merged_df.isnull().sum()"
   ]
  },
  {
   "cell_type": "code",
   "execution_count": 12,
   "id": "16fb3ec0-822c-494a-adb9-153d7f5c72df",
   "metadata": {},
   "outputs": [],
   "source": [
    "#### Replace misspelt words in geography column\n",
    "merged_df['Geography'] = merged_df['Geography'].replace({'FRA' : 'France', 'French' : 'France'})"
   ]
  },
  {
   "cell_type": "code",
   "execution_count": 13,
   "id": "e65a45c9-cd47-4677-8a72-e57f5666a148",
   "metadata": {},
   "outputs": [
    {
     "data": {
      "text/html": [
       "<div>\n",
       "<style scoped>\n",
       "    .dataframe tbody tr th:only-of-type {\n",
       "        vertical-align: middle;\n",
       "    }\n",
       "\n",
       "    .dataframe tbody tr th {\n",
       "        vertical-align: top;\n",
       "    }\n",
       "\n",
       "    .dataframe thead th {\n",
       "        text-align: right;\n",
       "    }\n",
       "</style>\n",
       "<table border=\"1\" class=\"dataframe\">\n",
       "  <thead>\n",
       "    <tr style=\"text-align: right;\">\n",
       "      <th></th>\n",
       "      <th>CustomerId</th>\n",
       "      <th>Surname</th>\n",
       "      <th>CreditScore</th>\n",
       "      <th>Geography</th>\n",
       "      <th>Gender</th>\n",
       "      <th>Age</th>\n",
       "      <th>Tenure</th>\n",
       "      <th>EstimatedSalary</th>\n",
       "      <th>Balance</th>\n",
       "      <th>NumOfProducts</th>\n",
       "      <th>HasCrCard</th>\n",
       "      <th>IsActiveMember</th>\n",
       "      <th>Exited</th>\n",
       "    </tr>\n",
       "  </thead>\n",
       "  <tbody>\n",
       "    <tr>\n",
       "      <th>0</th>\n",
       "      <td>15634602</td>\n",
       "      <td>Hargrave</td>\n",
       "      <td>619</td>\n",
       "      <td>France</td>\n",
       "      <td>Female</td>\n",
       "      <td>42.0</td>\n",
       "      <td>2</td>\n",
       "      <td>€101348.88</td>\n",
       "      <td>€0.0</td>\n",
       "      <td>1</td>\n",
       "      <td>Yes</td>\n",
       "      <td>Yes</td>\n",
       "      <td>1</td>\n",
       "    </tr>\n",
       "    <tr>\n",
       "      <th>1</th>\n",
       "      <td>15647311</td>\n",
       "      <td>Hill</td>\n",
       "      <td>608</td>\n",
       "      <td>Spain</td>\n",
       "      <td>Female</td>\n",
       "      <td>41.0</td>\n",
       "      <td>1</td>\n",
       "      <td>€112542.58</td>\n",
       "      <td>€83807.86</td>\n",
       "      <td>1</td>\n",
       "      <td>Yes</td>\n",
       "      <td>Yes</td>\n",
       "      <td>0</td>\n",
       "    </tr>\n",
       "    <tr>\n",
       "      <th>2</th>\n",
       "      <td>15619304</td>\n",
       "      <td>Onio</td>\n",
       "      <td>502</td>\n",
       "      <td>France</td>\n",
       "      <td>Female</td>\n",
       "      <td>42.0</td>\n",
       "      <td>8</td>\n",
       "      <td>€113931.57</td>\n",
       "      <td>€159660.8</td>\n",
       "      <td>3</td>\n",
       "      <td>No</td>\n",
       "      <td>No</td>\n",
       "      <td>1</td>\n",
       "    </tr>\n",
       "    <tr>\n",
       "      <th>3</th>\n",
       "      <td>15701354</td>\n",
       "      <td>Boni</td>\n",
       "      <td>699</td>\n",
       "      <td>France</td>\n",
       "      <td>Female</td>\n",
       "      <td>39.0</td>\n",
       "      <td>1</td>\n",
       "      <td>€93826.63</td>\n",
       "      <td>€0.0</td>\n",
       "      <td>2</td>\n",
       "      <td>No</td>\n",
       "      <td>No</td>\n",
       "      <td>0</td>\n",
       "    </tr>\n",
       "    <tr>\n",
       "      <th>4</th>\n",
       "      <td>15737888</td>\n",
       "      <td>Mitchell</td>\n",
       "      <td>850</td>\n",
       "      <td>Spain</td>\n",
       "      <td>Female</td>\n",
       "      <td>43.0</td>\n",
       "      <td>2</td>\n",
       "      <td>€79084.1</td>\n",
       "      <td>€125510.82</td>\n",
       "      <td>1</td>\n",
       "      <td>Yes</td>\n",
       "      <td>Yes</td>\n",
       "      <td>0</td>\n",
       "    </tr>\n",
       "    <tr>\n",
       "      <th>...</th>\n",
       "      <td>...</td>\n",
       "      <td>...</td>\n",
       "      <td>...</td>\n",
       "      <td>...</td>\n",
       "      <td>...</td>\n",
       "      <td>...</td>\n",
       "      <td>...</td>\n",
       "      <td>...</td>\n",
       "      <td>...</td>\n",
       "      <td>...</td>\n",
       "      <td>...</td>\n",
       "      <td>...</td>\n",
       "      <td>...</td>\n",
       "    </tr>\n",
       "    <tr>\n",
       "      <th>9995</th>\n",
       "      <td>15606229</td>\n",
       "      <td>Obijiaku</td>\n",
       "      <td>771</td>\n",
       "      <td>France</td>\n",
       "      <td>Male</td>\n",
       "      <td>39.0</td>\n",
       "      <td>5</td>\n",
       "      <td>€96270.64</td>\n",
       "      <td>€0.0</td>\n",
       "      <td>2</td>\n",
       "      <td>No</td>\n",
       "      <td>No</td>\n",
       "      <td>0</td>\n",
       "    </tr>\n",
       "    <tr>\n",
       "      <th>9996</th>\n",
       "      <td>15569892</td>\n",
       "      <td>Johnstone</td>\n",
       "      <td>516</td>\n",
       "      <td>France</td>\n",
       "      <td>Male</td>\n",
       "      <td>35.0</td>\n",
       "      <td>10</td>\n",
       "      <td>€101699.77</td>\n",
       "      <td>€57369.61</td>\n",
       "      <td>1</td>\n",
       "      <td>Yes</td>\n",
       "      <td>Yes</td>\n",
       "      <td>0</td>\n",
       "    </tr>\n",
       "    <tr>\n",
       "      <th>9997</th>\n",
       "      <td>15584532</td>\n",
       "      <td>Liu</td>\n",
       "      <td>709</td>\n",
       "      <td>France</td>\n",
       "      <td>Female</td>\n",
       "      <td>36.0</td>\n",
       "      <td>7</td>\n",
       "      <td>€42085.58</td>\n",
       "      <td>€0.0</td>\n",
       "      <td>1</td>\n",
       "      <td>Yes</td>\n",
       "      <td>Yes</td>\n",
       "      <td>1</td>\n",
       "    </tr>\n",
       "    <tr>\n",
       "      <th>9998</th>\n",
       "      <td>15682355</td>\n",
       "      <td>Sabbatini</td>\n",
       "      <td>772</td>\n",
       "      <td>Germany</td>\n",
       "      <td>Male</td>\n",
       "      <td>42.0</td>\n",
       "      <td>3</td>\n",
       "      <td>€92888.52</td>\n",
       "      <td>€75075.31</td>\n",
       "      <td>2</td>\n",
       "      <td>No</td>\n",
       "      <td>No</td>\n",
       "      <td>1</td>\n",
       "    </tr>\n",
       "    <tr>\n",
       "      <th>9999</th>\n",
       "      <td>15628319</td>\n",
       "      <td>Walker</td>\n",
       "      <td>792</td>\n",
       "      <td>France</td>\n",
       "      <td>Female</td>\n",
       "      <td>28.0</td>\n",
       "      <td>4</td>\n",
       "      <td>€38190.78</td>\n",
       "      <td>€130142.79</td>\n",
       "      <td>1</td>\n",
       "      <td>No</td>\n",
       "      <td>No</td>\n",
       "      <td>0</td>\n",
       "    </tr>\n",
       "  </tbody>\n",
       "</table>\n",
       "<p>10000 rows × 13 columns</p>\n",
       "</div>"
      ],
      "text/plain": [
       "      CustomerId    Surname  CreditScore Geography  Gender   Age  Tenure  \\\n",
       "0       15634602   Hargrave          619    France  Female  42.0       2   \n",
       "1       15647311       Hill          608     Spain  Female  41.0       1   \n",
       "2       15619304       Onio          502    France  Female  42.0       8   \n",
       "3       15701354       Boni          699    France  Female  39.0       1   \n",
       "4       15737888   Mitchell          850     Spain  Female  43.0       2   \n",
       "...          ...        ...          ...       ...     ...   ...     ...   \n",
       "9995    15606229   Obijiaku          771    France    Male  39.0       5   \n",
       "9996    15569892  Johnstone          516    France    Male  35.0      10   \n",
       "9997    15584532        Liu          709    France  Female  36.0       7   \n",
       "9998    15682355  Sabbatini          772   Germany    Male  42.0       3   \n",
       "9999    15628319     Walker          792    France  Female  28.0       4   \n",
       "\n",
       "     EstimatedSalary     Balance  NumOfProducts HasCrCard IsActiveMember  \\\n",
       "0         €101348.88        €0.0              1       Yes            Yes   \n",
       "1         €112542.58   €83807.86              1       Yes            Yes   \n",
       "2         €113931.57   €159660.8              3        No             No   \n",
       "3          €93826.63        €0.0              2        No             No   \n",
       "4           €79084.1  €125510.82              1       Yes            Yes   \n",
       "...              ...         ...            ...       ...            ...   \n",
       "9995       €96270.64        €0.0              2        No             No   \n",
       "9996      €101699.77   €57369.61              1       Yes            Yes   \n",
       "9997       €42085.58        €0.0              1       Yes            Yes   \n",
       "9998       €92888.52   €75075.31              2        No             No   \n",
       "9999       €38190.78  €130142.79              1        No             No   \n",
       "\n",
       "      Exited  \n",
       "0          1  \n",
       "1          0  \n",
       "2          1  \n",
       "3          0  \n",
       "4          0  \n",
       "...      ...  \n",
       "9995       0  \n",
       "9996       0  \n",
       "9997       1  \n",
       "9998       1  \n",
       "9999       0  \n",
       "\n",
       "[10000 rows x 13 columns]"
      ]
     },
     "execution_count": 13,
     "metadata": {},
     "output_type": "execute_result"
    }
   ],
   "source": [
    "merged_df"
   ]
  },
  {
   "cell_type": "code",
   "execution_count": 14,
   "id": "c3caf54b-c835-4400-833a-36540b7f16e7",
   "metadata": {},
   "outputs": [
    {
     "name": "stdout",
     "output_type": "stream",
     "text": [
      "<class 'pandas.core.frame.DataFrame'>\n",
      "RangeIndex: 10000 entries, 0 to 9999\n",
      "Data columns (total 13 columns):\n",
      " #   Column           Non-Null Count  Dtype  \n",
      "---  ------           --------------  -----  \n",
      " 0   CustomerId       10000 non-null  int64  \n",
      " 1   Surname          9997 non-null   object \n",
      " 2   CreditScore      10000 non-null  int64  \n",
      " 3   Geography        10000 non-null  object \n",
      " 4   Gender           10000 non-null  object \n",
      " 5   Age              10000 non-null  float64\n",
      " 6   Tenure           10000 non-null  int64  \n",
      " 7   EstimatedSalary  10000 non-null  object \n",
      " 8   Balance          10000 non-null  object \n",
      " 9   NumOfProducts    10000 non-null  int64  \n",
      " 10  HasCrCard        10000 non-null  object \n",
      " 11  IsActiveMember   10000 non-null  object \n",
      " 12  Exited           10000 non-null  int64  \n",
      "dtypes: float64(1), int64(5), object(7)\n",
      "memory usage: 1015.8+ KB\n"
     ]
    }
   ],
   "source": [
    "merged_df.info()"
   ]
  },
  {
   "cell_type": "code",
   "execution_count": 15,
   "id": "b76995e9-8f4d-46bd-8148-fee9fba7e7f8",
   "metadata": {},
   "outputs": [],
   "source": [
    "#### Change Age fron float64 to int64\n",
    "merged_df['Age'] = merged_df['Age'].round().astype('int64')"
   ]
  },
  {
   "cell_type": "code",
   "execution_count": 16,
   "id": "cdf738ee-1b67-4ba2-8c60-5cc67f731820",
   "metadata": {},
   "outputs": [
    {
     "name": "stdout",
     "output_type": "stream",
     "text": [
      "<class 'pandas.core.frame.DataFrame'>\n",
      "RangeIndex: 10000 entries, 0 to 9999\n",
      "Data columns (total 13 columns):\n",
      " #   Column           Non-Null Count  Dtype \n",
      "---  ------           --------------  ----- \n",
      " 0   CustomerId       10000 non-null  int64 \n",
      " 1   Surname          9997 non-null   object\n",
      " 2   CreditScore      10000 non-null  int64 \n",
      " 3   Geography        10000 non-null  object\n",
      " 4   Gender           10000 non-null  object\n",
      " 5   Age              10000 non-null  int64 \n",
      " 6   Tenure           10000 non-null  int64 \n",
      " 7   EstimatedSalary  10000 non-null  object\n",
      " 8   Balance          10000 non-null  object\n",
      " 9   NumOfProducts    10000 non-null  int64 \n",
      " 10  HasCrCard        10000 non-null  object\n",
      " 11  IsActiveMember   10000 non-null  object\n",
      " 12  Exited           10000 non-null  int64 \n",
      "dtypes: int64(6), object(7)\n",
      "memory usage: 1015.8+ KB\n"
     ]
    }
   ],
   "source": [
    "merged_df.info()"
   ]
  },
  {
   "cell_type": "code",
   "execution_count": 17,
   "id": "f39a53a6-1355-4879-beb7-6334afd87a39",
   "metadata": {},
   "outputs": [],
   "source": [
    "#### save cleaned up data\n",
    "merged_df.to_csv('BankChurn_cleaned.csv')"
   ]
  },
  {
   "cell_type": "code",
   "execution_count": 18,
   "id": "3c3b01c0-2643-40e1-8186-6256975e77e8",
   "metadata": {},
   "outputs": [],
   "source": [
    "#### Prepare Data For Analysis\n",
    "def categorize_exited(value):\n",
    " if value == 1:\n",
    "  return 'Yes'\n",
    " else:\n",
    "    return 'No'\n",
    "merged_df['Exited Category'] = merged_df['Exited'].apply(categorize_exited)\n"
   ]
  },
  {
   "cell_type": "code",
   "execution_count": 19,
   "id": "47a08857-047d-4a3b-84f4-7c557178e8d9",
   "metadata": {},
   "outputs": [
    {
     "data": {
      "text/html": [
       "<div>\n",
       "<style scoped>\n",
       "    .dataframe tbody tr th:only-of-type {\n",
       "        vertical-align: middle;\n",
       "    }\n",
       "\n",
       "    .dataframe tbody tr th {\n",
       "        vertical-align: top;\n",
       "    }\n",
       "\n",
       "    .dataframe thead th {\n",
       "        text-align: right;\n",
       "    }\n",
       "</style>\n",
       "<table border=\"1\" class=\"dataframe\">\n",
       "  <thead>\n",
       "    <tr style=\"text-align: right;\">\n",
       "      <th></th>\n",
       "      <th>CustomerId</th>\n",
       "      <th>Surname</th>\n",
       "      <th>CreditScore</th>\n",
       "      <th>Geography</th>\n",
       "      <th>Gender</th>\n",
       "      <th>Age</th>\n",
       "      <th>Tenure</th>\n",
       "      <th>EstimatedSalary</th>\n",
       "      <th>Balance</th>\n",
       "      <th>NumOfProducts</th>\n",
       "      <th>HasCrCard</th>\n",
       "      <th>IsActiveMember</th>\n",
       "      <th>Exited</th>\n",
       "      <th>Exited Category</th>\n",
       "    </tr>\n",
       "  </thead>\n",
       "  <tbody>\n",
       "    <tr>\n",
       "      <th>0</th>\n",
       "      <td>15634602</td>\n",
       "      <td>Hargrave</td>\n",
       "      <td>619</td>\n",
       "      <td>France</td>\n",
       "      <td>Female</td>\n",
       "      <td>42</td>\n",
       "      <td>2</td>\n",
       "      <td>€101348.88</td>\n",
       "      <td>€0.0</td>\n",
       "      <td>1</td>\n",
       "      <td>Yes</td>\n",
       "      <td>Yes</td>\n",
       "      <td>1</td>\n",
       "      <td>Yes</td>\n",
       "    </tr>\n",
       "    <tr>\n",
       "      <th>1</th>\n",
       "      <td>15647311</td>\n",
       "      <td>Hill</td>\n",
       "      <td>608</td>\n",
       "      <td>Spain</td>\n",
       "      <td>Female</td>\n",
       "      <td>41</td>\n",
       "      <td>1</td>\n",
       "      <td>€112542.58</td>\n",
       "      <td>€83807.86</td>\n",
       "      <td>1</td>\n",
       "      <td>Yes</td>\n",
       "      <td>Yes</td>\n",
       "      <td>0</td>\n",
       "      <td>No</td>\n",
       "    </tr>\n",
       "    <tr>\n",
       "      <th>2</th>\n",
       "      <td>15619304</td>\n",
       "      <td>Onio</td>\n",
       "      <td>502</td>\n",
       "      <td>France</td>\n",
       "      <td>Female</td>\n",
       "      <td>42</td>\n",
       "      <td>8</td>\n",
       "      <td>€113931.57</td>\n",
       "      <td>€159660.8</td>\n",
       "      <td>3</td>\n",
       "      <td>No</td>\n",
       "      <td>No</td>\n",
       "      <td>1</td>\n",
       "      <td>Yes</td>\n",
       "    </tr>\n",
       "    <tr>\n",
       "      <th>3</th>\n",
       "      <td>15701354</td>\n",
       "      <td>Boni</td>\n",
       "      <td>699</td>\n",
       "      <td>France</td>\n",
       "      <td>Female</td>\n",
       "      <td>39</td>\n",
       "      <td>1</td>\n",
       "      <td>€93826.63</td>\n",
       "      <td>€0.0</td>\n",
       "      <td>2</td>\n",
       "      <td>No</td>\n",
       "      <td>No</td>\n",
       "      <td>0</td>\n",
       "      <td>No</td>\n",
       "    </tr>\n",
       "    <tr>\n",
       "      <th>4</th>\n",
       "      <td>15737888</td>\n",
       "      <td>Mitchell</td>\n",
       "      <td>850</td>\n",
       "      <td>Spain</td>\n",
       "      <td>Female</td>\n",
       "      <td>43</td>\n",
       "      <td>2</td>\n",
       "      <td>€79084.1</td>\n",
       "      <td>€125510.82</td>\n",
       "      <td>1</td>\n",
       "      <td>Yes</td>\n",
       "      <td>Yes</td>\n",
       "      <td>0</td>\n",
       "      <td>No</td>\n",
       "    </tr>\n",
       "  </tbody>\n",
       "</table>\n",
       "</div>"
      ],
      "text/plain": [
       "   CustomerId   Surname  CreditScore Geography  Gender  Age  Tenure  \\\n",
       "0    15634602  Hargrave          619    France  Female   42       2   \n",
       "1    15647311      Hill          608     Spain  Female   41       1   \n",
       "2    15619304      Onio          502    France  Female   42       8   \n",
       "3    15701354      Boni          699    France  Female   39       1   \n",
       "4    15737888  Mitchell          850     Spain  Female   43       2   \n",
       "\n",
       "  EstimatedSalary     Balance  NumOfProducts HasCrCard IsActiveMember  Exited  \\\n",
       "0      €101348.88        €0.0              1       Yes            Yes       1   \n",
       "1      €112542.58   €83807.86              1       Yes            Yes       0   \n",
       "2      €113931.57   €159660.8              3        No             No       1   \n",
       "3       €93826.63        €0.0              2        No             No       0   \n",
       "4        €79084.1  €125510.82              1       Yes            Yes       0   \n",
       "\n",
       "  Exited Category  \n",
       "0             Yes  \n",
       "1              No  \n",
       "2             Yes  \n",
       "3              No  \n",
       "4              No  "
      ]
     },
     "execution_count": 19,
     "metadata": {},
     "output_type": "execute_result"
    }
   ],
   "source": [
    "merged_df.head()"
   ]
  },
  {
   "cell_type": "code",
   "execution_count": 52,
   "id": "219b77c1-74b3-4e00-8c0c-28213fec1d8e",
   "metadata": {},
   "outputs": [
    {
     "data": {
      "text/plain": [
       "<Figure size 2000x1000 with 0 Axes>"
      ]
     },
     "metadata": {},
     "output_type": "display_data"
    }
   ],
   "source": [
    "#### Helper Functions\n",
    "import matplotlib.pyplot as plt\n",
    "plt.figure(figsize=(20,10)).patch.set_facecolor('none')\n",
    "\n",
    "def generate_bar_plot(x,y,xlabel,ylabel):\n",
    "    plt.bar(x,y,color = 'brown',edgecolor ='black')\n",
    "    plt.title(f'plot of {ylabel} against {xlabel}')\n",
    "    plt.xlabel(xlabel)\n",
    "    plt.ylabel(ylabel)\n",
    "    plt.show()\n",
    "\n",
    "    def generate_line_plot(x,y,xlabel,ylabel,data):\n",
    "        sb.lineplot(x,y,data=data)\n",
    "        plt.xlabel(xlabel)\n",
    "        plt.ylabel(ylabel)\n",
    "        plt.title(f'plot of how {ylabel} changes with {xlabel}')\n",
    "        sb.despine()\n",
    "        plt.show()\n",
    "\n",
    "    def plot_pie(values,labels,colors):\n",
    "        plt.pie(values,labels=labels,autopct='%.0f%%', colors=['taupe', 'light brown', 'dark brown'])\n",
    "        plt.show()"
   ]
  },
  {
   "cell_type": "code",
   "execution_count": 21,
   "id": "eaf408fd-4821-4ef3-98fb-4ffc0a99747c",
   "metadata": {},
   "outputs": [],
   "source": [
    "### list comprehension for colums with object data types\n",
    "cat_col = [col for col in merged_df.select_dtypes(['object']).columns]"
   ]
  },
  {
   "cell_type": "code",
   "execution_count": 22,
   "id": "7d12836c-99d9-493a-baf3-50fb12157c3f",
   "metadata": {},
   "outputs": [
    {
     "name": "stdout",
     "output_type": "stream",
     "text": [
      "Surname\n",
      "Smith       32\n",
      "Martin      29\n",
      "Scott       29\n",
      "Walker      28\n",
      "Brown       26\n",
      "            ..\n",
      "Izmailov     1\n",
      "Bold         1\n",
      "Bonham       1\n",
      "Poninski     1\n",
      "Burbidge     1\n",
      "Name: count, Length: 2932, dtype: int64\n",
      "-------------\n",
      "Geography\n",
      "France     5014\n",
      "Germany    2509\n",
      "Spain      2477\n",
      "Name: count, dtype: int64\n",
      "-------------\n",
      "Gender\n",
      "Male      5457\n",
      "Female    4543\n",
      "Name: count, dtype: int64\n",
      "-------------\n",
      "EstimatedSalary\n",
      "-€999999      3\n",
      "€24924.92     2\n",
      "€101348.88    1\n",
      "€10288.24     1\n",
      "€72500.68     1\n",
      "             ..\n",
      "€188377.21    1\n",
      "€55902.93     1\n",
      "€4523.74      1\n",
      "€102195.16    1\n",
      "€38190.78     1\n",
      "Name: count, Length: 9997, dtype: int64\n",
      "-------------\n",
      "Balance\n",
      "€0.0          3617\n",
      "€130170.82       2\n",
      "€105473.74       2\n",
      "€85304.27        1\n",
      "€159397.75       1\n",
      "              ... \n",
      "€81556.89        1\n",
      "€112687.69       1\n",
      "€108698.96       1\n",
      "€238387.56       1\n",
      "€130142.79       1\n",
      "Name: count, Length: 6382, dtype: int64\n",
      "-------------\n",
      "HasCrCard\n",
      "Yes    5151\n",
      "No     4849\n",
      "Name: count, dtype: int64\n",
      "-------------\n",
      "IsActiveMember\n",
      "Yes    5151\n",
      "No     4849\n",
      "Name: count, dtype: int64\n",
      "-------------\n",
      "Exited Category\n",
      "No     7963\n",
      "Yes    2037\n",
      "Name: count, dtype: int64\n",
      "-------------\n"
     ]
    }
   ],
   "source": [
    "for col in cat_col:\n",
    "    print(merged_df[col].value_counts())\n",
    "    print ('-------------')"
   ]
  },
  {
   "cell_type": "code",
   "execution_count": 23,
   "id": "c1c10714-5408-4f7c-a92a-65994ffce921",
   "metadata": {},
   "outputs": [],
   "source": [
    "#### list comprehension for columns with numeric data type\n",
    "num_col = [col for col in merged_df.select_dtypes(['int64', 'float64']).columns]"
   ]
  },
  {
   "cell_type": "code",
   "execution_count": 24,
   "id": "b4c56d12-bcca-4cc4-89f4-4f5278b4de1e",
   "metadata": {},
   "outputs": [
    {
     "name": "stdout",
     "output_type": "stream",
     "text": [
      "CustomerId\n",
      "15634602    1\n",
      "15667932    1\n",
      "15766185    1\n",
      "15667632    1\n",
      "15599024    1\n",
      "           ..\n",
      "15599078    1\n",
      "15702300    1\n",
      "15660735    1\n",
      "15671390    1\n",
      "15628319    1\n",
      "Name: count, Length: 10000, dtype: int64\n",
      "------------\n",
      "CreditScore\n",
      "850    233\n",
      "678     63\n",
      "655     54\n",
      "705     53\n",
      "667     53\n",
      "      ... \n",
      "404      1\n",
      "351      1\n",
      "365      1\n",
      "417      1\n",
      "419      1\n",
      "Name: count, Length: 460, dtype: int64\n",
      "------------\n",
      "Age\n",
      "37    478\n",
      "38    477\n",
      "35    474\n",
      "36    456\n",
      "34    447\n",
      "     ... \n",
      "92      2\n",
      "82      1\n",
      "88      1\n",
      "85      1\n",
      "83      1\n",
      "Name: count, Length: 70, dtype: int64\n",
      "------------\n",
      "Tenure\n",
      "2     1048\n",
      "1     1035\n",
      "7     1028\n",
      "8     1025\n",
      "5     1012\n",
      "3     1009\n",
      "4      989\n",
      "9      984\n",
      "6      967\n",
      "10     490\n",
      "0      413\n",
      "Name: count, dtype: int64\n",
      "------------\n",
      "NumOfProducts\n",
      "1    5084\n",
      "2    4590\n",
      "3     266\n",
      "4      60\n",
      "Name: count, dtype: int64\n",
      "------------\n",
      "Exited\n",
      "0    7963\n",
      "1    2037\n",
      "Name: count, dtype: int64\n",
      "------------\n"
     ]
    }
   ],
   "source": [
    "for col in num_col:\n",
    "    print(merged_df[col].value_counts())\n",
    "    print('------------')"
   ]
  },
  {
   "cell_type": "code",
   "execution_count": 25,
   "id": "69b1982e-bdfe-422d-b806-be36db5b5278",
   "metadata": {},
   "outputs": [],
   "source": [
    "#### Data Analysis\n",
    "### Question 1\n",
    "### What percentage of customers have churned?\n",
    "\n",
    "Exited_cat = (merged_df.groupby('Exited Category').agg({'Exited Category':'count'}))"
   ]
  },
  {
   "cell_type": "code",
   "execution_count": 26,
   "id": "40584817-e00d-4e7c-875f-bc8a12a8cc4c",
   "metadata": {},
   "outputs": [
    {
     "data": {
      "text/html": [
       "<div>\n",
       "<style scoped>\n",
       "    .dataframe tbody tr th:only-of-type {\n",
       "        vertical-align: middle;\n",
       "    }\n",
       "\n",
       "    .dataframe tbody tr th {\n",
       "        vertical-align: top;\n",
       "    }\n",
       "\n",
       "    .dataframe thead th {\n",
       "        text-align: right;\n",
       "    }\n",
       "</style>\n",
       "<table border=\"1\" class=\"dataframe\">\n",
       "  <thead>\n",
       "    <tr style=\"text-align: right;\">\n",
       "      <th></th>\n",
       "      <th>Exited Category</th>\n",
       "    </tr>\n",
       "    <tr>\n",
       "      <th>Exited Category</th>\n",
       "      <th></th>\n",
       "    </tr>\n",
       "  </thead>\n",
       "  <tbody>\n",
       "    <tr>\n",
       "      <th>No</th>\n",
       "      <td>7963</td>\n",
       "    </tr>\n",
       "    <tr>\n",
       "      <th>Yes</th>\n",
       "      <td>2037</td>\n",
       "    </tr>\n",
       "  </tbody>\n",
       "</table>\n",
       "</div>"
      ],
      "text/plain": [
       "                 Exited Category\n",
       "Exited Category                 \n",
       "No                          7963\n",
       "Yes                         2037"
      ]
     },
     "execution_count": 26,
     "metadata": {},
     "output_type": "execute_result"
    }
   ],
   "source": [
    "Exited_cat"
   ]
  },
  {
   "cell_type": "code",
   "execution_count": 38,
   "id": "81159eaa-3bc7-4e66-85fe-81ac7bb9ecb1",
   "metadata": {},
   "outputs": [],
   "source": [
    "#### Generate Piechart\n",
    "def    plot_pie(values,labels,colors):\n",
    "       plt.pie(values,labels=labels,autopct='%.0f%%', colors=['lightbrown', 'Darkbrown'])\n",
    "       plt.show()\n",
    "      "
   ]
  },
  {
   "cell_type": "code",
   "execution_count": 83,
   "id": "80958aeb-b2af-4e4c-b032-ac2d601d59e4",
   "metadata": {},
   "outputs": [
    {
     "data": {
      "image/png": "[encoded data removed]",
      "text/plain": [
       "<Figure size 640x480 with 1 Axes>"
      ]
     },
     "metadata": {},
     "output_type": "display_data"
    }
   ],
   "source": [
    "plt.pie(Exited_cat['Exited Category'], labels=Exited_cat.index, autopct='%.0f%%', colors=['brown','orange'])\n",
    "plt.show()"
   ]
  },
  {
   "cell_type": "code",
   "execution_count": null,
   "id": "8502d5f4-a126-4f15-9872-3544e9319967",
   "metadata": {},
   "outputs": [],
   "source": [
    "Result: 20% of the bank customers (2000) has churned"
   ]
  },
  {
   "cell_type": "code",
   "execution_count": 40,
   "id": "fd3b1636-0f59-498d-bc29-80bcf1d02872",
   "metadata": {},
   "outputs": [],
   "source": [
    "##### Question 2\n",
    "#### Customer spread across geographical location\n",
    "Geographical_cat = (merged_df.groupby('Geography').agg({'Geography':'count'}))"
   ]
  },
  {
   "cell_type": "code",
   "execution_count": 41,
   "id": "351a42e6-d1b7-45af-975f-87958802913e",
   "metadata": {},
   "outputs": [
    {
     "data": {
      "text/html": [
       "<div>\n",
       "<style scoped>\n",
       "    .dataframe tbody tr th:only-of-type {\n",
       "        vertical-align: middle;\n",
       "    }\n",
       "\n",
       "    .dataframe tbody tr th {\n",
       "        vertical-align: top;\n",
       "    }\n",
       "\n",
       "    .dataframe thead th {\n",
       "        text-align: right;\n",
       "    }\n",
       "</style>\n",
       "<table border=\"1\" class=\"dataframe\">\n",
       "  <thead>\n",
       "    <tr style=\"text-align: right;\">\n",
       "      <th></th>\n",
       "      <th>Geography</th>\n",
       "    </tr>\n",
       "    <tr>\n",
       "      <th>Geography</th>\n",
       "      <th></th>\n",
       "    </tr>\n",
       "  </thead>\n",
       "  <tbody>\n",
       "    <tr>\n",
       "      <th>France</th>\n",
       "      <td>5014</td>\n",
       "    </tr>\n",
       "    <tr>\n",
       "      <th>Germany</th>\n",
       "      <td>2509</td>\n",
       "    </tr>\n",
       "    <tr>\n",
       "      <th>Spain</th>\n",
       "      <td>2477</td>\n",
       "    </tr>\n",
       "  </tbody>\n",
       "</table>\n",
       "</div>"
      ],
      "text/plain": [
       "           Geography\n",
       "Geography           \n",
       "France          5014\n",
       "Germany         2509\n",
       "Spain           2477"
      ]
     },
     "execution_count": 41,
     "metadata": {},
     "output_type": "execute_result"
    }
   ],
   "source": [
    "Geographical_cat"
   ]
  },
  {
   "cell_type": "code",
   "execution_count": 53,
   "id": "95629bac-1b4a-4098-baef-af2310a42fc5",
   "metadata": {},
   "outputs": [
    {
     "data": {
      "image/png": "[encoded data removed]",
      "text/plain": [
       "<Figure size 640x480 with 1 Axes>"
      ]
     },
     "metadata": {},
     "output_type": "display_data"
    }
   ],
   "source": [
    "generate_bar_plot(Geographical_cat.index, Geographical_cat['Geography'], 'Country', 'Number Of Customers')"
   ]
  },
  {
   "cell_type": "code",
   "execution_count": null,
   "id": "6f0eb5aa-d817-4a6d-a93f-c9fad0a785f8",
   "metadata": {},
   "outputs": [],
   "source": [
    "Result: france has the highest customers base."
   ]
  },
  {
   "cell_type": "code",
   "execution_count": 74,
   "id": "6237096b-079e-4005-8ee4-b92f68ae517b",
   "metadata": {},
   "outputs": [],
   "source": [
    "#### Question 3\n",
    "#### Customer Exit by Country\n",
    "geographical_exit=merged_df.groupby(['Geography','Exited Category']).size().unstack(fill_value=0)"
   ]
  },
  {
   "cell_type": "code",
   "execution_count": 69,
   "id": "223720e9-eeb2-4f59-a59b-1222d4b38210",
   "metadata": {},
   "outputs": [
    {
     "data": {
      "text/html": [
       "<div>\n",
       "<style scoped>\n",
       "    .dataframe tbody tr th:only-of-type {\n",
       "        vertical-align: middle;\n",
       "    }\n",
       "\n",
       "    .dataframe tbody tr th {\n",
       "        vertical-align: top;\n",
       "    }\n",
       "\n",
       "    .dataframe thead th {\n",
       "        text-align: right;\n",
       "    }\n",
       "</style>\n",
       "<table border=\"1\" class=\"dataframe\">\n",
       "  <thead>\n",
       "    <tr style=\"text-align: right;\">\n",
       "      <th>Exited Category</th>\n",
       "      <th>No</th>\n",
       "      <th>Yes</th>\n",
       "    </tr>\n",
       "    <tr>\n",
       "      <th>Geography</th>\n",
       "      <th></th>\n",
       "      <th></th>\n",
       "    </tr>\n",
       "  </thead>\n",
       "  <tbody>\n",
       "    <tr>\n",
       "      <th>France</th>\n",
       "      <td>4204</td>\n",
       "      <td>810</td>\n",
       "    </tr>\n",
       "    <tr>\n",
       "      <th>Germany</th>\n",
       "      <td>1695</td>\n",
       "      <td>814</td>\n",
       "    </tr>\n",
       "    <tr>\n",
       "      <th>Spain</th>\n",
       "      <td>2064</td>\n",
       "      <td>413</td>\n",
       "    </tr>\n",
       "  </tbody>\n",
       "</table>\n",
       "</div>"
      ],
      "text/plain": [
       "Exited Category    No  Yes\n",
       "Geography                 \n",
       "France           4204  810\n",
       "Germany          1695  814\n",
       "Spain            2064  413"
      ]
     },
     "execution_count": 69,
     "metadata": {},
     "output_type": "execute_result"
    }
   ],
   "source": [
    "geographical_exit"
   ]
  },
  {
   "cell_type": "code",
   "execution_count": null,
   "id": "e59857fc-35b3-4af9-8bc3-868930e274b0",
   "metadata": {},
   "outputs": [],
   "source": [
    "def "
   ]
  },
  {
   "cell_type": "code",
   "execution_count": 80,
   "id": "4cccac79-eb33-4805-b745-3f87bbe7d6dd",
   "metadata": {},
   "outputs": [
    {
     "data": {
      "image/png": "[encoded data removed]",
      "text/plain": [
       "<Figure size 640x480 with 1 Axes>"
      ]
     },
     "metadata": {},
     "output_type": "display_data"
    }
   ],
   "source": [
    "generate_bar_plot(geographical_exit.index, geographical_exit['Yes'], 'Country', 'Number Of Exited Customers')"
   ]
  },
  {
   "cell_type": "raw",
   "id": "111a855b-4c1f-4f08-afcd-f8c205208bf2",
   "metadata": {},
   "source": [
    "Result: Germany has the highest churn rate at 814 followed closely by France at 800 and Spain"
   ]
  },
  {
   "cell_type": "code",
   "execution_count": 81,
   "id": "1705d055-1efe-46ac-a5c5-117e266dbc77",
   "metadata": {},
   "outputs": [],
   "source": [
    "#### Question 4\n",
    "#### Customer exit by Gender\n",
    "gender_exit=merged_df.groupby(['Gender','Exited Category']).size().unstack(fill_value=0)"
   ]
  },
  {
   "cell_type": "code",
   "execution_count": 82,
   "id": "b9ccd691-733b-4c71-893b-ca44b1caad24",
   "metadata": {},
   "outputs": [
    {
     "data": {
      "text/html": [
       "<div>\n",
       "<style scoped>\n",
       "    .dataframe tbody tr th:only-of-type {\n",
       "        vertical-align: middle;\n",
       "    }\n",
       "\n",
       "    .dataframe tbody tr th {\n",
       "        vertical-align: top;\n",
       "    }\n",
       "\n",
       "    .dataframe thead th {\n",
       "        text-align: right;\n",
       "    }\n",
       "</style>\n",
       "<table border=\"1\" class=\"dataframe\">\n",
       "  <thead>\n",
       "    <tr style=\"text-align: right;\">\n",
       "      <th>Exited Category</th>\n",
       "      <th>No</th>\n",
       "      <th>Yes</th>\n",
       "    </tr>\n",
       "    <tr>\n",
       "      <th>Gender</th>\n",
       "      <th></th>\n",
       "      <th></th>\n",
       "    </tr>\n",
       "  </thead>\n",
       "  <tbody>\n",
       "    <tr>\n",
       "      <th>Female</th>\n",
       "      <td>3404</td>\n",
       "      <td>1139</td>\n",
       "    </tr>\n",
       "    <tr>\n",
       "      <th>Male</th>\n",
       "      <td>4559</td>\n",
       "      <td>898</td>\n",
       "    </tr>\n",
       "  </tbody>\n",
       "</table>\n",
       "</div>"
      ],
      "text/plain": [
       "Exited Category    No   Yes\n",
       "Gender                     \n",
       "Female           3404  1139\n",
       "Male             4559   898"
      ]
     },
     "execution_count": 82,
     "metadata": {},
     "output_type": "execute_result"
    }
   ],
   "source": [
    "gender_exit"
   ]
  },
  {
   "cell_type": "code",
   "execution_count": 84,
   "id": "3e3005a4-f2b9-4663-9ec0-091385f2a287",
   "metadata": {},
   "outputs": [
    {
     "data": {
      "image/png": "[encoded data removed]",
      "text/plain": [
       "<Figure size 640x480 with 1 Axes>"
      ]
     },
     "metadata": {},
     "output_type": "display_data"
    }
   ],
   "source": [
    "generate_bar_plot(gender_exit.index, gender_exit['Yes'], 'Gender', 'Number Of Exited Customers')"
   ]
  },
  {
   "cell_type": "code",
   "execution_count": null,
   "id": "039158d3-9f7b-4ddd-a9ab-112def360840",
   "metadata": {},
   "outputs": [],
   "source": [
    "Result: more females churned than males"
   ]
  },
  {
   "cell_type": "code",
   "execution_count": 91,
   "id": "8c48cc12-9a55-4804-8169-3829fff05b7c",
   "metadata": {},
   "outputs": [],
   "source": [
    "#### Question 5\n",
    "#### Cresit score for Exited customers and Retained customers\n",
    "exited_customers=merged_df[merged_df['Exited'] ==1]"
   ]
  },
  {
   "cell_type": "code",
   "execution_count": 92,
   "id": "567cfd3f-d1bf-49ca-9a14-1495b6d312d4",
   "metadata": {},
   "outputs": [
    {
     "data": {
      "text/html": [
       "<div>\n",
       "<style scoped>\n",
       "    .dataframe tbody tr th:only-of-type {\n",
       "        vertical-align: middle;\n",
       "    }\n",
       "\n",
       "    .dataframe tbody tr th {\n",
       "        vertical-align: top;\n",
       "    }\n",
       "\n",
       "    .dataframe thead th {\n",
       "        text-align: right;\n",
       "    }\n",
       "</style>\n",
       "<table border=\"1\" class=\"dataframe\">\n",
       "  <thead>\n",
       "    <tr style=\"text-align: right;\">\n",
       "      <th></th>\n",
       "      <th>CustomerId</th>\n",
       "      <th>Surname</th>\n",
       "      <th>CreditScore</th>\n",
       "      <th>Geography</th>\n",
       "      <th>Gender</th>\n",
       "      <th>Age</th>\n",
       "      <th>Tenure</th>\n",
       "      <th>EstimatedSalary</th>\n",
       "      <th>Balance</th>\n",
       "      <th>NumOfProducts</th>\n",
       "      <th>HasCrCard</th>\n",
       "      <th>IsActiveMember</th>\n",
       "      <th>Exited</th>\n",
       "      <th>Exited Category</th>\n",
       "    </tr>\n",
       "  </thead>\n",
       "  <tbody>\n",
       "    <tr>\n",
       "      <th>0</th>\n",
       "      <td>15634602</td>\n",
       "      <td>Hargrave</td>\n",
       "      <td>619</td>\n",
       "      <td>France</td>\n",
       "      <td>Female</td>\n",
       "      <td>42</td>\n",
       "      <td>2</td>\n",
       "      <td>€101348.88</td>\n",
       "      <td>€0.0</td>\n",
       "      <td>1</td>\n",
       "      <td>Yes</td>\n",
       "      <td>Yes</td>\n",
       "      <td>1</td>\n",
       "      <td>Yes</td>\n",
       "    </tr>\n",
       "    <tr>\n",
       "      <th>2</th>\n",
       "      <td>15619304</td>\n",
       "      <td>Onio</td>\n",
       "      <td>502</td>\n",
       "      <td>France</td>\n",
       "      <td>Female</td>\n",
       "      <td>42</td>\n",
       "      <td>8</td>\n",
       "      <td>€113931.57</td>\n",
       "      <td>€159660.8</td>\n",
       "      <td>3</td>\n",
       "      <td>No</td>\n",
       "      <td>No</td>\n",
       "      <td>1</td>\n",
       "      <td>Yes</td>\n",
       "    </tr>\n",
       "    <tr>\n",
       "      <th>5</th>\n",
       "      <td>15574012</td>\n",
       "      <td>Chu</td>\n",
       "      <td>645</td>\n",
       "      <td>Spain</td>\n",
       "      <td>Male</td>\n",
       "      <td>44</td>\n",
       "      <td>8</td>\n",
       "      <td>€149756.71</td>\n",
       "      <td>€113755.78</td>\n",
       "      <td>2</td>\n",
       "      <td>No</td>\n",
       "      <td>No</td>\n",
       "      <td>1</td>\n",
       "      <td>Yes</td>\n",
       "    </tr>\n",
       "    <tr>\n",
       "      <th>7</th>\n",
       "      <td>15656148</td>\n",
       "      <td>Obinna</td>\n",
       "      <td>376</td>\n",
       "      <td>Germany</td>\n",
       "      <td>Female</td>\n",
       "      <td>29</td>\n",
       "      <td>4</td>\n",
       "      <td>€119346.88</td>\n",
       "      <td>€115046.74</td>\n",
       "      <td>4</td>\n",
       "      <td>No</td>\n",
       "      <td>No</td>\n",
       "      <td>1</td>\n",
       "      <td>Yes</td>\n",
       "    </tr>\n",
       "    <tr>\n",
       "      <th>16</th>\n",
       "      <td>15737452</td>\n",
       "      <td>Romeo</td>\n",
       "      <td>653</td>\n",
       "      <td>Germany</td>\n",
       "      <td>Male</td>\n",
       "      <td>58</td>\n",
       "      <td>1</td>\n",
       "      <td>€5097.67</td>\n",
       "      <td>€132602.88</td>\n",
       "      <td>1</td>\n",
       "      <td>No</td>\n",
       "      <td>No</td>\n",
       "      <td>1</td>\n",
       "      <td>Yes</td>\n",
       "    </tr>\n",
       "    <tr>\n",
       "      <th>...</th>\n",
       "      <td>...</td>\n",
       "      <td>...</td>\n",
       "      <td>...</td>\n",
       "      <td>...</td>\n",
       "      <td>...</td>\n",
       "      <td>...</td>\n",
       "      <td>...</td>\n",
       "      <td>...</td>\n",
       "      <td>...</td>\n",
       "      <td>...</td>\n",
       "      <td>...</td>\n",
       "      <td>...</td>\n",
       "      <td>...</td>\n",
       "      <td>...</td>\n",
       "    </tr>\n",
       "    <tr>\n",
       "      <th>9981</th>\n",
       "      <td>15672754</td>\n",
       "      <td>Burbidge</td>\n",
       "      <td>498</td>\n",
       "      <td>Germany</td>\n",
       "      <td>Male</td>\n",
       "      <td>42</td>\n",
       "      <td>3</td>\n",
       "      <td>€53445.17</td>\n",
       "      <td>€152039.7</td>\n",
       "      <td>1</td>\n",
       "      <td>Yes</td>\n",
       "      <td>Yes</td>\n",
       "      <td>1</td>\n",
       "      <td>Yes</td>\n",
       "    </tr>\n",
       "    <tr>\n",
       "      <th>9982</th>\n",
       "      <td>15768163</td>\n",
       "      <td>Griffin</td>\n",
       "      <td>655</td>\n",
       "      <td>Germany</td>\n",
       "      <td>Female</td>\n",
       "      <td>46</td>\n",
       "      <td>7</td>\n",
       "      <td>€115146.4</td>\n",
       "      <td>€137145.12</td>\n",
       "      <td>1</td>\n",
       "      <td>No</td>\n",
       "      <td>No</td>\n",
       "      <td>1</td>\n",
       "      <td>Yes</td>\n",
       "    </tr>\n",
       "    <tr>\n",
       "      <th>9991</th>\n",
       "      <td>15769959</td>\n",
       "      <td>Ajuluchukwu</td>\n",
       "      <td>597</td>\n",
       "      <td>France</td>\n",
       "      <td>Female</td>\n",
       "      <td>53</td>\n",
       "      <td>4</td>\n",
       "      <td>€69384.71</td>\n",
       "      <td>€88381.21</td>\n",
       "      <td>1</td>\n",
       "      <td>No</td>\n",
       "      <td>No</td>\n",
       "      <td>1</td>\n",
       "      <td>Yes</td>\n",
       "    </tr>\n",
       "    <tr>\n",
       "      <th>9997</th>\n",
       "      <td>15584532</td>\n",
       "      <td>Liu</td>\n",
       "      <td>709</td>\n",
       "      <td>France</td>\n",
       "      <td>Female</td>\n",
       "      <td>36</td>\n",
       "      <td>7</td>\n",
       "      <td>€42085.58</td>\n",
       "      <td>€0.0</td>\n",
       "      <td>1</td>\n",
       "      <td>Yes</td>\n",
       "      <td>Yes</td>\n",
       "      <td>1</td>\n",
       "      <td>Yes</td>\n",
       "    </tr>\n",
       "    <tr>\n",
       "      <th>9998</th>\n",
       "      <td>15682355</td>\n",
       "      <td>Sabbatini</td>\n",
       "      <td>772</td>\n",
       "      <td>Germany</td>\n",
       "      <td>Male</td>\n",
       "      <td>42</td>\n",
       "      <td>3</td>\n",
       "      <td>€92888.52</td>\n",
       "      <td>€75075.31</td>\n",
       "      <td>2</td>\n",
       "      <td>No</td>\n",
       "      <td>No</td>\n",
       "      <td>1</td>\n",
       "      <td>Yes</td>\n",
       "    </tr>\n",
       "  </tbody>\n",
       "</table>\n",
       "<p>2037 rows × 14 columns</p>\n",
       "</div>"
      ],
      "text/plain": [
       "      CustomerId      Surname  CreditScore Geography  Gender  Age  Tenure  \\\n",
       "0       15634602     Hargrave          619    France  Female   42       2   \n",
       "2       15619304         Onio          502    France  Female   42       8   \n",
       "5       15574012          Chu          645     Spain    Male   44       8   \n",
       "7       15656148       Obinna          376   Germany  Female   29       4   \n",
       "16      15737452        Romeo          653   Germany    Male   58       1   \n",
       "...          ...          ...          ...       ...     ...  ...     ...   \n",
       "9981    15672754     Burbidge          498   Germany    Male   42       3   \n",
       "9982    15768163      Griffin          655   Germany  Female   46       7   \n",
       "9991    15769959  Ajuluchukwu          597    France  Female   53       4   \n",
       "9997    15584532          Liu          709    France  Female   36       7   \n",
       "9998    15682355    Sabbatini          772   Germany    Male   42       3   \n",
       "\n",
       "     EstimatedSalary     Balance  NumOfProducts HasCrCard IsActiveMember  \\\n",
       "0         €101348.88        €0.0              1       Yes            Yes   \n",
       "2         €113931.57   €159660.8              3        No             No   \n",
       "5         €149756.71  €113755.78              2        No             No   \n",
       "7         €119346.88  €115046.74              4        No             No   \n",
       "16          €5097.67  €132602.88              1        No             No   \n",
       "...              ...         ...            ...       ...            ...   \n",
       "9981       €53445.17   €152039.7              1       Yes            Yes   \n",
       "9982       €115146.4  €137145.12              1        No             No   \n",
       "9991       €69384.71   €88381.21              1        No             No   \n",
       "9997       €42085.58        €0.0              1       Yes            Yes   \n",
       "9998       €92888.52   €75075.31              2        No             No   \n",
       "\n",
       "      Exited Exited Category  \n",
       "0          1             Yes  \n",
       "2          1             Yes  \n",
       "5          1             Yes  \n",
       "7          1             Yes  \n",
       "16         1             Yes  \n",
       "...      ...             ...  \n",
       "9981       1             Yes  \n",
       "9982       1             Yes  \n",
       "9991       1             Yes  \n",
       "9997       1             Yes  \n",
       "9998       1             Yes  \n",
       "\n",
       "[2037 rows x 14 columns]"
      ]
     },
     "execution_count": 92,
     "metadata": {},
     "output_type": "execute_result"
    }
   ],
   "source": [
    "exited_customers"
   ]
  },
  {
   "cell_type": "code",
   "execution_count": 93,
   "id": "ec7a55c4-ab45-4911-a66d-36ab5e47584e",
   "metadata": {},
   "outputs": [],
   "source": [
    "credit_score_exited=exited_customers['CreditScore']"
   ]
  },
  {
   "cell_type": "code",
   "execution_count": 94,
   "id": "829365ad-0b7d-4e82-9d06-98bd0fad47b2",
   "metadata": {},
   "outputs": [
    {
     "data": {
      "text/plain": [
       "0     619\n",
       "2     502\n",
       "5     645\n",
       "7     376\n",
       "16    653\n",
       "Name: CreditScore, dtype: int64"
      ]
     },
     "execution_count": 94,
     "metadata": {},
     "output_type": "execute_result"
    }
   ],
   "source": [
    "credit_score_exited.head()"
   ]
  },
  {
   "cell_type": "code",
   "execution_count": 95,
   "id": "be137ac6-d822-4831-a20e-3d5e1887747d",
   "metadata": {},
   "outputs": [
    {
     "data": {
      "text/plain": [
       "9981    498\n",
       "9982    655\n",
       "9991    597\n",
       "9997    709\n",
       "9998    772\n",
       "Name: CreditScore, dtype: int64"
      ]
     },
     "execution_count": 95,
     "metadata": {},
     "output_type": "execute_result"
    }
   ],
   "source": [
    "credit_score_exited.tail()"
   ]
  },
  {
   "cell_type": "code",
   "execution_count": 97,
   "id": "3ab7a586-38b5-4a3a-b6c6-c1a27d369043",
   "metadata": {},
   "outputs": [],
   "source": [
    "creditscore_exit_desc= exited_customers[['CustomerId', 'CreditScore']].sort_values(by='CreditScore', ascending=False)"
   ]
  },
  {
   "cell_type": "code",
   "execution_count": 98,
   "id": "dc467e13-e11b-47ec-a249-8506aedd6a08",
   "metadata": {},
   "outputs": [
    {
     "data": {
      "text/html": [
       "<div>\n",
       "<style scoped>\n",
       "    .dataframe tbody tr th:only-of-type {\n",
       "        vertical-align: middle;\n",
       "    }\n",
       "\n",
       "    .dataframe tbody tr th {\n",
       "        vertical-align: top;\n",
       "    }\n",
       "\n",
       "    .dataframe thead th {\n",
       "        text-align: right;\n",
       "    }\n",
       "</style>\n",
       "<table border=\"1\" class=\"dataframe\">\n",
       "  <thead>\n",
       "    <tr style=\"text-align: right;\">\n",
       "      <th></th>\n",
       "      <th>CustomerId</th>\n",
       "      <th>CreditScore</th>\n",
       "    </tr>\n",
       "  </thead>\n",
       "  <tbody>\n",
       "    <tr>\n",
       "      <th>3251</th>\n",
       "      <td>15750335</td>\n",
       "      <td>850</td>\n",
       "    </tr>\n",
       "    <tr>\n",
       "      <th>2393</th>\n",
       "      <td>15657342</td>\n",
       "      <td>850</td>\n",
       "    </tr>\n",
       "    <tr>\n",
       "      <th>7837</th>\n",
       "      <td>15678497</td>\n",
       "      <td>850</td>\n",
       "    </tr>\n",
       "    <tr>\n",
       "      <th>6403</th>\n",
       "      <td>15736126</td>\n",
       "      <td>850</td>\n",
       "    </tr>\n",
       "    <tr>\n",
       "      <th>4629</th>\n",
       "      <td>15687153</td>\n",
       "      <td>850</td>\n",
       "    </tr>\n",
       "  </tbody>\n",
       "</table>\n",
       "</div>"
      ],
      "text/plain": [
       "      CustomerId  CreditScore\n",
       "3251    15750335          850\n",
       "2393    15657342          850\n",
       "7837    15678497          850\n",
       "6403    15736126          850\n",
       "4629    15687153          850"
      ]
     },
     "execution_count": 98,
     "metadata": {},
     "output_type": "execute_result"
    }
   ],
   "source": [
    "creditscore_exit_desc.head()"
   ]
  },
  {
   "cell_type": "code",
   "execution_count": 108,
   "id": "f368e366-98fc-4ea5-ae83-cb7e706bd587",
   "metadata": {},
   "outputs": [
    {
     "data": {
      "text/html": [
       "<div>\n",
       "<style scoped>\n",
       "    .dataframe tbody tr th:only-of-type {\n",
       "        vertical-align: middle;\n",
       "    }\n",
       "\n",
       "    .dataframe tbody tr th {\n",
       "        vertical-align: top;\n",
       "    }\n",
       "\n",
       "    .dataframe thead th {\n",
       "        text-align: right;\n",
       "    }\n",
       "</style>\n",
       "<table border=\"1\" class=\"dataframe\">\n",
       "  <thead>\n",
       "    <tr style=\"text-align: right;\">\n",
       "      <th></th>\n",
       "      <th>CustomerId</th>\n",
       "      <th>CreditScore</th>\n",
       "      <th>Age</th>\n",
       "      <th>Tenure</th>\n",
       "      <th>NumOfProducts</th>\n",
       "      <th>Exited</th>\n",
       "    </tr>\n",
       "  </thead>\n",
       "  <tbody>\n",
       "    <tr>\n",
       "      <th>count</th>\n",
       "      <td>2.037000e+03</td>\n",
       "      <td>2037.000000</td>\n",
       "      <td>2037.000000</td>\n",
       "      <td>2037.000000</td>\n",
       "      <td>2037.000000</td>\n",
       "      <td>2037.0</td>\n",
       "    </tr>\n",
       "    <tr>\n",
       "      <th>mean</th>\n",
       "      <td>1.569005e+07</td>\n",
       "      <td>645.351497</td>\n",
       "      <td>44.837997</td>\n",
       "      <td>4.932744</td>\n",
       "      <td>1.475209</td>\n",
       "      <td>1.0</td>\n",
       "    </tr>\n",
       "    <tr>\n",
       "      <th>std</th>\n",
       "      <td>7.269262e+04</td>\n",
       "      <td>100.321503</td>\n",
       "      <td>9.761562</td>\n",
       "      <td>2.936106</td>\n",
       "      <td>0.801521</td>\n",
       "      <td>0.0</td>\n",
       "    </tr>\n",
       "    <tr>\n",
       "      <th>min</th>\n",
       "      <td>1.556571e+07</td>\n",
       "      <td>350.000000</td>\n",
       "      <td>18.000000</td>\n",
       "      <td>0.000000</td>\n",
       "      <td>1.000000</td>\n",
       "      <td>1.0</td>\n",
       "    </tr>\n",
       "    <tr>\n",
       "      <th>25%</th>\n",
       "      <td>1.562736e+07</td>\n",
       "      <td>578.000000</td>\n",
       "      <td>38.000000</td>\n",
       "      <td>2.000000</td>\n",
       "      <td>1.000000</td>\n",
       "      <td>1.0</td>\n",
       "    </tr>\n",
       "    <tr>\n",
       "      <th>50%</th>\n",
       "      <td>1.568896e+07</td>\n",
       "      <td>646.000000</td>\n",
       "      <td>45.000000</td>\n",
       "      <td>5.000000</td>\n",
       "      <td>1.000000</td>\n",
       "      <td>1.0</td>\n",
       "    </tr>\n",
       "    <tr>\n",
       "      <th>75%</th>\n",
       "      <td>1.575309e+07</td>\n",
       "      <td>716.000000</td>\n",
       "      <td>51.000000</td>\n",
       "      <td>8.000000</td>\n",
       "      <td>2.000000</td>\n",
       "      <td>1.0</td>\n",
       "    </tr>\n",
       "    <tr>\n",
       "      <th>max</th>\n",
       "      <td>1.581566e+07</td>\n",
       "      <td>850.000000</td>\n",
       "      <td>84.000000</td>\n",
       "      <td>10.000000</td>\n",
       "      <td>4.000000</td>\n",
       "      <td>1.0</td>\n",
       "    </tr>\n",
       "  </tbody>\n",
       "</table>\n",
       "</div>"
      ],
      "text/plain": [
       "         CustomerId  CreditScore          Age       Tenure  NumOfProducts  \\\n",
       "count  2.037000e+03  2037.000000  2037.000000  2037.000000    2037.000000   \n",
       "mean   1.569005e+07   645.351497    44.837997     4.932744       1.475209   \n",
       "std    7.269262e+04   100.321503     9.761562     2.936106       0.801521   \n",
       "min    1.556571e+07   350.000000    18.000000     0.000000       1.000000   \n",
       "25%    1.562736e+07   578.000000    38.000000     2.000000       1.000000   \n",
       "50%    1.568896e+07   646.000000    45.000000     5.000000       1.000000   \n",
       "75%    1.575309e+07   716.000000    51.000000     8.000000       2.000000   \n",
       "max    1.581566e+07   850.000000    84.000000    10.000000       4.000000   \n",
       "\n",
       "       Exited  \n",
       "count  2037.0  \n",
       "mean      1.0  \n",
       "std       0.0  \n",
       "min       1.0  \n",
       "25%       1.0  \n",
       "50%       1.0  \n",
       "75%       1.0  \n",
       "max       1.0  "
      ]
     },
     "execution_count": 108,
     "metadata": {},
     "output_type": "execute_result"
    }
   ],
   "source": [
    "creditscore_exit.describe()"
   ]
  },
  {
   "cell_type": "code",
   "execution_count": 104,
   "id": "00705815-4462-4984-8856-b2e46943f3eb",
   "metadata": {},
   "outputs": [],
   "source": [
    "avg_credit_by_exit=merged_df.groupby('Exited')['CreditScore'].mean()\n"
   ]
  },
  {
   "cell_type": "code",
   "execution_count": 107,
   "id": "ccc8e535-2366-4a4c-b23f-e5af64454c17",
   "metadata": {},
   "outputs": [
    {
     "data": {
      "image/png": "[encoded data removed]",
      "text/plain": [
       "<Figure size 800x600 with 1 Axes>"
      ]
     },
     "metadata": {},
     "output_type": "display_data"
    }
   ],
   "source": [
    "avg_credit_by_exit.plot(kind='bar', color=['brown', 'orange'], figsize=(8,6))\n",
    "plt.title('Average Credit Score: Retained vs Exited Customers')\n",
    "plt.xlabel('Exited (0= retained, 1= Exited)')\n",
    "plt.ylabel('Average Credit Score')\n",
    "plt.xticks(ticks=[0,1], labels=['Retained', 'Exited'], rotation=0)\n",
    "plt.grid(axis='y', linestyle='--', alpha=0.7)\n",
    "plt.tight_layout()\n",
    "plt.show()"
   ]
  },
  {
   "cell_type": "raw",
   "id": "3fc775ef-608d-427e-8d8a-45a0bd5931b3",
   "metadata": {},
   "source": [
    "Result: the average credit score of the retained customer is slightly higher than the exited customers"
   ]
  },
  {
   "cell_type": "code",
   "execution_count": 109,
   "id": "eec5fd7d-6025-42c2-a961-e9f1acb5e825",
   "metadata": {},
   "outputs": [],
   "source": [
    "#### Question6\n",
    "#### What age group has the highest churn rate?\n",
    "age_exit=merged_df.groupby(['Age','Exited Category']).size().unstack(fill_value=0)"
   ]
  },
  {
   "cell_type": "code",
   "execution_count": 111,
   "id": "f83334c2-a7b4-4749-acd5-17a10c756ac6",
   "metadata": {},
   "outputs": [
    {
     "data": {
      "text/html": [
       "<div>\n",
       "<style scoped>\n",
       "    .dataframe tbody tr th:only-of-type {\n",
       "        vertical-align: middle;\n",
       "    }\n",
       "\n",
       "    .dataframe tbody tr th {\n",
       "        vertical-align: top;\n",
       "    }\n",
       "\n",
       "    .dataframe thead th {\n",
       "        text-align: right;\n",
       "    }\n",
       "</style>\n",
       "<table border=\"1\" class=\"dataframe\">\n",
       "  <thead>\n",
       "    <tr style=\"text-align: right;\">\n",
       "      <th>Exited Category</th>\n",
       "      <th>No</th>\n",
       "      <th>Yes</th>\n",
       "    </tr>\n",
       "    <tr>\n",
       "      <th>Age</th>\n",
       "      <th></th>\n",
       "      <th></th>\n",
       "    </tr>\n",
       "  </thead>\n",
       "  <tbody>\n",
       "    <tr>\n",
       "      <th>18</th>\n",
       "      <td>20</td>\n",
       "      <td>2</td>\n",
       "    </tr>\n",
       "    <tr>\n",
       "      <th>19</th>\n",
       "      <td>26</td>\n",
       "      <td>1</td>\n",
       "    </tr>\n",
       "    <tr>\n",
       "      <th>20</th>\n",
       "      <td>38</td>\n",
       "      <td>2</td>\n",
       "    </tr>\n",
       "    <tr>\n",
       "      <th>21</th>\n",
       "      <td>50</td>\n",
       "      <td>3</td>\n",
       "    </tr>\n",
       "    <tr>\n",
       "      <th>22</th>\n",
       "      <td>72</td>\n",
       "      <td>12</td>\n",
       "    </tr>\n",
       "    <tr>\n",
       "      <th>...</th>\n",
       "      <td>...</td>\n",
       "      <td>...</td>\n",
       "    </tr>\n",
       "    <tr>\n",
       "      <th>83</th>\n",
       "      <td>1</td>\n",
       "      <td>0</td>\n",
       "    </tr>\n",
       "    <tr>\n",
       "      <th>84</th>\n",
       "      <td>1</td>\n",
       "      <td>1</td>\n",
       "    </tr>\n",
       "    <tr>\n",
       "      <th>85</th>\n",
       "      <td>1</td>\n",
       "      <td>0</td>\n",
       "    </tr>\n",
       "    <tr>\n",
       "      <th>88</th>\n",
       "      <td>1</td>\n",
       "      <td>0</td>\n",
       "    </tr>\n",
       "    <tr>\n",
       "      <th>92</th>\n",
       "      <td>2</td>\n",
       "      <td>0</td>\n",
       "    </tr>\n",
       "  </tbody>\n",
       "</table>\n",
       "<p>70 rows × 2 columns</p>\n",
       "</div>"
      ],
      "text/plain": [
       "Exited Category  No  Yes\n",
       "Age                     \n",
       "18               20    2\n",
       "19               26    1\n",
       "20               38    2\n",
       "21               50    3\n",
       "22               72   12\n",
       "..               ..  ...\n",
       "83                1    0\n",
       "84                1    1\n",
       "85                1    0\n",
       "88                1    0\n",
       "92                2    0\n",
       "\n",
       "[70 rows x 2 columns]"
      ]
     },
     "execution_count": 111,
     "metadata": {},
     "output_type": "execute_result"
    }
   ],
   "source": [
    "age_exit"
   ]
  },
  {
   "cell_type": "code",
   "execution_count": 121,
   "id": "1f42519c-c84e-4db1-a2f2-c5ec0e2c4d19",
   "metadata": {},
   "outputs": [],
   "source": [
    "#### create age categories\n",
    "merged_df['Agegroup'] = pd.cut(merged_df['Age'], bins=[18, 30, 40, 50, 60, 90, ], labels=['18-30', '31-40', '41-50', '51-60', '60+'])\n"
   ]
  },
  {
   "cell_type": "code",
   "execution_count": 127,
   "id": "d5cf2049-d2a0-4589-a4cc-f614b5de30dd",
   "metadata": {},
   "outputs": [
    {
     "name": "stderr",
     "output_type": "stream",
     "text": [
      "C:\\Users\\Admin\\AppData\\Local\\Temp\\ipykernel_10172\\1212065520.py:2: FutureWarning: The default of observed=False is deprecated and will be changed to True in a future version of pandas. Pass observed=False to retain current behavior or observed=True to adopt the future default and silence this warning.\n",
      "  merged_df.groupby('Agegroup')['Exited'].mean().plot(kind='bar', color='brown')\n"
     ]
    },
    {
     "data": {
      "image/png": "[encoded data removed]",
      "text/plain": [
       "<Figure size 800x600 with 1 Axes>"
      ]
     },
     "metadata": {},
     "output_type": "display_data"
    }
   ],
   "source": [
    "plt.figure(figsize=(8,6))\n",
    "merged_df.groupby('Agegroup')['Exited'].mean().plot(kind='bar', color='brown')\n",
    "plt.title('Churn Rate by Age Group')\n",
    "plt.xlabel('Age Group')\n",
    "plt.ylabel('Churn Rate')\n",
    "plt.grid(axis='y', linestyle='--', alpha=0.7)\n",
    "plt.tight_layout()\n",
    "plt.show()"
   ]
  },
  {
   "cell_type": "code",
   "execution_count": null,
   "id": "450e3a5e-0468-4aea-acbd-72c074ba1267",
   "metadata": {},
   "outputs": [],
   "source": [
    "Result: Those in age group 51-60 years has the highest churn rate"
   ]
  },
  {
   "cell_type": "code",
   "execution_count": 128,
   "id": "a808a210-2aad-4893-8ae3-bef5fbcf7e90",
   "metadata": {},
   "outputs": [],
   "source": [
    "#### Question 7\n",
    "#### does tenure lenght affect the churn rate?\n",
    "churn_by_tenure =merged_df.groupby('Tenure')['Exited'].mean()"
   ]
  },
  {
   "cell_type": "code",
   "execution_count": 129,
   "id": "b6dbc077-db29-4696-b0d0-2992dd19ff85",
   "metadata": {},
   "outputs": [
    {
     "data": {
      "image/png": "[encoded data removed]",
      "text/plain": [
       "<Figure size 800x600 with 1 Axes>"
      ]
     },
     "metadata": {},
     "output_type": "display_data"
    }
   ],
   "source": [
    "plt.figure(figsize=(8,6))\n",
    "churn_by_tenure.plot(kind='bar', color='brown')\n",
    "plt.title('Churn Rate by Tenure')\n",
    "plt.xlabel('Tenure')\n",
    "plt.ylabel('Churn Rate')\n",
    "plt.grid(axis='y', linestyle='--', alpha=0.7)\n",
    "plt.tight_layout()\n",
    "plt.show()"
   ]
  },
  {
   "cell_type": "code",
   "execution_count": null,
   "id": "ac553b7e-f2f1-4345-a2cf-a5ce51615c95",
   "metadata": {},
   "outputs": [],
   "source": [
    "Result: churn rate is high across all tenure length with year 0 nd 1 having the highest rate."
   ]
  }
 ],
 "metadata": {
  "kernelspec": {
   "display_name": "Python [conda env:base] *",
   "language": "python",
   "name": "conda-base-py"
  },
  "language_info": {
   "codemirror_mode": {
    "name": "ipython",
    "version": 3
   },
   "file_extension": ".py",
   "mimetype": "text/x-python",
   "name": "python",
   "nbconvert_exporter": "python",
   "pygments_lexer": "ipython3",
   "version": "3.12.7"
  }
 },
 "nbformat": 4,
 "nbformat_minor": 5
}
